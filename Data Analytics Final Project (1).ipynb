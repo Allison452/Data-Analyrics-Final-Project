{
 "cells": [
  {
   "cell_type": "markdown",
   "id": "bd330972",
   "metadata": {},
   "source": [
    "Data Analytics Final Project\n",
    "Allison Foster 8808904\n",
    "Neena Kurup "
   ]
  },
  {
   "cell_type": "code",
   "execution_count": 1,
   "id": "c21158ac",
   "metadata": {},
   "outputs": [],
   "source": [
    "import pandas as pd\n",
    "import numpy as np\n",
    "import seaborn as sns\n",
    "import matplotlib.pyplot as plt\n",
    "import matplotlib.image as mpl"
   ]
  },
  {
   "cell_type": "code",
   "execution_count": 2,
   "id": "e79b22d6",
   "metadata": {},
   "outputs": [],
   "source": [
    "Immunization=pd.read_csv(r'C:\\Users\\user\\Downloads\\ltc_immunization_data.csv')"
   ]
  },
  {
   "cell_type": "code",
   "execution_count": 3,
   "id": "4afe8de0",
   "metadata": {},
   "outputs": [
    {
     "data": {
      "text/html": [
       "<div>\n",
       "<style scoped>\n",
       "    .dataframe tbody tr th:only-of-type {\n",
       "        vertical-align: middle;\n",
       "    }\n",
       "\n",
       "    .dataframe tbody tr th {\n",
       "        vertical-align: top;\n",
       "    }\n",
       "\n",
       "    .dataframe thead th {\n",
       "        text-align: right;\n",
       "    }\n",
       "</style>\n",
       "<table border=\"1\" class=\"dataframe\">\n",
       "  <thead>\n",
       "    <tr style=\"text-align: right;\">\n",
       "      <th></th>\n",
       "      <th>Date_Collected</th>\n",
       "      <th>LTC_Home</th>\n",
       "      <th>LTC_Home_Number</th>\n",
       "      <th>City</th>\n",
       "      <th>PHU</th>\n",
       "      <th>1st_dose_percentage_staff_vaccination_rate</th>\n",
       "      <th>2nd_dose_percentage_staff_vaccination_rate</th>\n",
       "    </tr>\n",
       "  </thead>\n",
       "  <tbody>\n",
       "    <tr>\n",
       "      <th>0</th>\n",
       "      <td>2021-08-31</td>\n",
       "      <td>Algoma Manor Nursing Home</td>\n",
       "      <td>3041</td>\n",
       "      <td>Thessalon</td>\n",
       "      <td>ALGOMA</td>\n",
       "      <td>0.92</td>\n",
       "      <td>0.91</td>\n",
       "    </tr>\n",
       "    <tr>\n",
       "      <th>1</th>\n",
       "      <td>2021-08-31</td>\n",
       "      <td>Cedarwood Lodge</td>\n",
       "      <td>7093</td>\n",
       "      <td>Sault Ste. Marie</td>\n",
       "      <td>ALGOMA</td>\n",
       "      <td>0.95</td>\n",
       "      <td>0.95</td>\n",
       "    </tr>\n",
       "    <tr>\n",
       "      <th>2</th>\n",
       "      <td>2021-08-31</td>\n",
       "      <td>Extendicare Maple View of Sault Ste. Marie</td>\n",
       "      <td>3043</td>\n",
       "      <td>Sault Ste. Marie</td>\n",
       "      <td>ALGOMA</td>\n",
       "      <td>0.74</td>\n",
       "      <td>0.68</td>\n",
       "    </tr>\n",
       "    <tr>\n",
       "      <th>3</th>\n",
       "      <td>2021-08-31</td>\n",
       "      <td>Extendicare Van Daele</td>\n",
       "      <td>2609</td>\n",
       "      <td>Sault Ste. Marie</td>\n",
       "      <td>ALGOMA</td>\n",
       "      <td>0.90</td>\n",
       "      <td>0.88</td>\n",
       "    </tr>\n",
       "    <tr>\n",
       "      <th>4</th>\n",
       "      <td>2021-08-31</td>\n",
       "      <td>F. J. Davey Home</td>\n",
       "      <td>2936</td>\n",
       "      <td>Sault Ste. Marie</td>\n",
       "      <td>ALGOMA</td>\n",
       "      <td>0.87</td>\n",
       "      <td>0.74</td>\n",
       "    </tr>\n",
       "    <tr>\n",
       "      <th>...</th>\n",
       "      <td>...</td>\n",
       "      <td>...</td>\n",
       "      <td>...</td>\n",
       "      <td>...</td>\n",
       "      <td>...</td>\n",
       "      <td>...</td>\n",
       "      <td>...</td>\n",
       "    </tr>\n",
       "    <tr>\n",
       "      <th>3086</th>\n",
       "      <td>2021-12-31</td>\n",
       "      <td>Villa Leonardo Gambin</td>\n",
       "      <td>2947</td>\n",
       "      <td>Woodbridge</td>\n",
       "      <td>YORK REGION</td>\n",
       "      <td>1.00</td>\n",
       "      <td>1.00</td>\n",
       "    </tr>\n",
       "    <tr>\n",
       "      <th>3087</th>\n",
       "      <td>2021-12-31</td>\n",
       "      <td>Woodbridge Vista Care Community</td>\n",
       "      <td>2945</td>\n",
       "      <td>Woodbridge</td>\n",
       "      <td>YORK REGION</td>\n",
       "      <td>1.00</td>\n",
       "      <td>0.97</td>\n",
       "    </tr>\n",
       "    <tr>\n",
       "      <th>3088</th>\n",
       "      <td>2021-12-31</td>\n",
       "      <td>Yee Hong Centre - Markham</td>\n",
       "      <td>2876</td>\n",
       "      <td>Markham</td>\n",
       "      <td>YORK REGION</td>\n",
       "      <td>1.00</td>\n",
       "      <td>1.00</td>\n",
       "    </tr>\n",
       "    <tr>\n",
       "      <th>3089</th>\n",
       "      <td>2021-12-31</td>\n",
       "      <td>York Region Maple Health Centre</td>\n",
       "      <td>M605</td>\n",
       "      <td>Maple</td>\n",
       "      <td>YORK REGION</td>\n",
       "      <td>1.00</td>\n",
       "      <td>1.00</td>\n",
       "    </tr>\n",
       "    <tr>\n",
       "      <th>3090</th>\n",
       "      <td>2021-12-31</td>\n",
       "      <td>York Region Newmarket Health Centre</td>\n",
       "      <td>M534</td>\n",
       "      <td>Newmarket</td>\n",
       "      <td>YORK REGION</td>\n",
       "      <td>1.00</td>\n",
       "      <td>1.00</td>\n",
       "    </tr>\n",
       "  </tbody>\n",
       "</table>\n",
       "<p>3091 rows × 7 columns</p>\n",
       "</div>"
      ],
      "text/plain": [
       "     Date_Collected                                    LTC_Home  \\\n",
       "0        2021-08-31                   Algoma Manor Nursing Home   \n",
       "1        2021-08-31                             Cedarwood Lodge   \n",
       "2        2021-08-31  Extendicare Maple View of Sault Ste. Marie   \n",
       "3        2021-08-31                       Extendicare Van Daele   \n",
       "4        2021-08-31                            F. J. Davey Home   \n",
       "...             ...                                         ...   \n",
       "3086     2021-12-31                       Villa Leonardo Gambin   \n",
       "3087     2021-12-31             Woodbridge Vista Care Community   \n",
       "3088     2021-12-31                   Yee Hong Centre - Markham   \n",
       "3089     2021-12-31             York Region Maple Health Centre   \n",
       "3090     2021-12-31         York Region Newmarket Health Centre   \n",
       "\n",
       "     LTC_Home_Number              City          PHU  \\\n",
       "0               3041         Thessalon       ALGOMA   \n",
       "1               7093  Sault Ste. Marie       ALGOMA   \n",
       "2               3043  Sault Ste. Marie       ALGOMA   \n",
       "3               2609  Sault Ste. Marie       ALGOMA   \n",
       "4               2936  Sault Ste. Marie       ALGOMA   \n",
       "...              ...               ...          ...   \n",
       "3086            2947        Woodbridge  YORK REGION   \n",
       "3087            2945        Woodbridge  YORK REGION   \n",
       "3088            2876           Markham  YORK REGION   \n",
       "3089            M605             Maple  YORK REGION   \n",
       "3090            M534         Newmarket  YORK REGION   \n",
       "\n",
       "      1st_dose_percentage_staff_vaccination_rate  \\\n",
       "0                                           0.92   \n",
       "1                                           0.95   \n",
       "2                                           0.74   \n",
       "3                                           0.90   \n",
       "4                                           0.87   \n",
       "...                                          ...   \n",
       "3086                                        1.00   \n",
       "3087                                        1.00   \n",
       "3088                                        1.00   \n",
       "3089                                        1.00   \n",
       "3090                                        1.00   \n",
       "\n",
       "      2nd_dose_percentage_staff_vaccination_rate  \n",
       "0                                           0.91  \n",
       "1                                           0.95  \n",
       "2                                           0.68  \n",
       "3                                           0.88  \n",
       "4                                           0.74  \n",
       "...                                          ...  \n",
       "3086                                        1.00  \n",
       "3087                                        0.97  \n",
       "3088                                        1.00  \n",
       "3089                                        1.00  \n",
       "3090                                        1.00  \n",
       "\n",
       "[3091 rows x 7 columns]"
      ]
     },
     "execution_count": 3,
     "metadata": {},
     "output_type": "execute_result"
    }
   ],
   "source": [
    "Immunization"
   ]
  },
  {
   "cell_type": "code",
   "execution_count": 4,
   "id": "18215dbc",
   "metadata": {},
   "outputs": [
    {
     "data": {
      "text/html": [
       "<div>\n",
       "<style scoped>\n",
       "    .dataframe tbody tr th:only-of-type {\n",
       "        vertical-align: middle;\n",
       "    }\n",
       "\n",
       "    .dataframe tbody tr th {\n",
       "        vertical-align: top;\n",
       "    }\n",
       "\n",
       "    .dataframe thead th {\n",
       "        text-align: right;\n",
       "    }\n",
       "</style>\n",
       "<table border=\"1\" class=\"dataframe\">\n",
       "  <thead>\n",
       "    <tr style=\"text-align: right;\">\n",
       "      <th></th>\n",
       "      <th>Date_Collected</th>\n",
       "      <th>LTC_Home</th>\n",
       "      <th>LTC_Home_Number</th>\n",
       "      <th>City</th>\n",
       "      <th>PHU</th>\n",
       "      <th>1st_dose_percentage_staff_vaccination_rate</th>\n",
       "      <th>2nd_dose_percentage_staff_vaccination_rate</th>\n",
       "    </tr>\n",
       "  </thead>\n",
       "  <tbody>\n",
       "    <tr>\n",
       "      <th>0</th>\n",
       "      <td>False</td>\n",
       "      <td>False</td>\n",
       "      <td>False</td>\n",
       "      <td>False</td>\n",
       "      <td>False</td>\n",
       "      <td>False</td>\n",
       "      <td>False</td>\n",
       "    </tr>\n",
       "    <tr>\n",
       "      <th>1</th>\n",
       "      <td>False</td>\n",
       "      <td>False</td>\n",
       "      <td>False</td>\n",
       "      <td>False</td>\n",
       "      <td>False</td>\n",
       "      <td>False</td>\n",
       "      <td>False</td>\n",
       "    </tr>\n",
       "    <tr>\n",
       "      <th>2</th>\n",
       "      <td>False</td>\n",
       "      <td>False</td>\n",
       "      <td>False</td>\n",
       "      <td>False</td>\n",
       "      <td>False</td>\n",
       "      <td>False</td>\n",
       "      <td>False</td>\n",
       "    </tr>\n",
       "    <tr>\n",
       "      <th>3</th>\n",
       "      <td>False</td>\n",
       "      <td>False</td>\n",
       "      <td>False</td>\n",
       "      <td>False</td>\n",
       "      <td>False</td>\n",
       "      <td>False</td>\n",
       "      <td>False</td>\n",
       "    </tr>\n",
       "    <tr>\n",
       "      <th>4</th>\n",
       "      <td>False</td>\n",
       "      <td>False</td>\n",
       "      <td>False</td>\n",
       "      <td>False</td>\n",
       "      <td>False</td>\n",
       "      <td>False</td>\n",
       "      <td>False</td>\n",
       "    </tr>\n",
       "    <tr>\n",
       "      <th>...</th>\n",
       "      <td>...</td>\n",
       "      <td>...</td>\n",
       "      <td>...</td>\n",
       "      <td>...</td>\n",
       "      <td>...</td>\n",
       "      <td>...</td>\n",
       "      <td>...</td>\n",
       "    </tr>\n",
       "    <tr>\n",
       "      <th>3086</th>\n",
       "      <td>False</td>\n",
       "      <td>False</td>\n",
       "      <td>False</td>\n",
       "      <td>False</td>\n",
       "      <td>False</td>\n",
       "      <td>False</td>\n",
       "      <td>False</td>\n",
       "    </tr>\n",
       "    <tr>\n",
       "      <th>3087</th>\n",
       "      <td>False</td>\n",
       "      <td>False</td>\n",
       "      <td>False</td>\n",
       "      <td>False</td>\n",
       "      <td>False</td>\n",
       "      <td>False</td>\n",
       "      <td>False</td>\n",
       "    </tr>\n",
       "    <tr>\n",
       "      <th>3088</th>\n",
       "      <td>False</td>\n",
       "      <td>False</td>\n",
       "      <td>False</td>\n",
       "      <td>False</td>\n",
       "      <td>False</td>\n",
       "      <td>False</td>\n",
       "      <td>False</td>\n",
       "    </tr>\n",
       "    <tr>\n",
       "      <th>3089</th>\n",
       "      <td>False</td>\n",
       "      <td>False</td>\n",
       "      <td>False</td>\n",
       "      <td>False</td>\n",
       "      <td>False</td>\n",
       "      <td>False</td>\n",
       "      <td>False</td>\n",
       "    </tr>\n",
       "    <tr>\n",
       "      <th>3090</th>\n",
       "      <td>False</td>\n",
       "      <td>False</td>\n",
       "      <td>False</td>\n",
       "      <td>False</td>\n",
       "      <td>False</td>\n",
       "      <td>False</td>\n",
       "      <td>False</td>\n",
       "    </tr>\n",
       "  </tbody>\n",
       "</table>\n",
       "<p>3091 rows × 7 columns</p>\n",
       "</div>"
      ],
      "text/plain": [
       "      Date_Collected  LTC_Home  LTC_Home_Number   City    PHU  \\\n",
       "0              False     False            False  False  False   \n",
       "1              False     False            False  False  False   \n",
       "2              False     False            False  False  False   \n",
       "3              False     False            False  False  False   \n",
       "4              False     False            False  False  False   \n",
       "...              ...       ...              ...    ...    ...   \n",
       "3086           False     False            False  False  False   \n",
       "3087           False     False            False  False  False   \n",
       "3088           False     False            False  False  False   \n",
       "3089           False     False            False  False  False   \n",
       "3090           False     False            False  False  False   \n",
       "\n",
       "      1st_dose_percentage_staff_vaccination_rate  \\\n",
       "0                                          False   \n",
       "1                                          False   \n",
       "2                                          False   \n",
       "3                                          False   \n",
       "4                                          False   \n",
       "...                                          ...   \n",
       "3086                                       False   \n",
       "3087                                       False   \n",
       "3088                                       False   \n",
       "3089                                       False   \n",
       "3090                                       False   \n",
       "\n",
       "      2nd_dose_percentage_staff_vaccination_rate  \n",
       "0                                          False  \n",
       "1                                          False  \n",
       "2                                          False  \n",
       "3                                          False  \n",
       "4                                          False  \n",
       "...                                          ...  \n",
       "3086                                       False  \n",
       "3087                                       False  \n",
       "3088                                       False  \n",
       "3089                                       False  \n",
       "3090                                       False  \n",
       "\n",
       "[3091 rows x 7 columns]"
      ]
     },
     "execution_count": 4,
     "metadata": {},
     "output_type": "execute_result"
    }
   ],
   "source": [
    "Immunization.isnull()"
   ]
  },
  {
   "cell_type": "code",
   "execution_count": null,
   "id": "7c6e16af",
   "metadata": {},
   "outputs": [],
   "source": [
    "##This dataset compiles monthly COVID-19 vaccination rates for staff, student placements and volunteers in long-term care homes, based on data homes report to the Ministry of Long-Term Care on a monthly basis.\n",
    "\n",
    "As the data is reported monthly, the vaccination rates of staff, students and volunteers may no longer be current; for current information, please contact the long-term care home directly."
   ]
  },
  {
   "cell_type": "code",
   "execution_count": 6,
   "id": "08efa05c",
   "metadata": {},
   "outputs": [
    {
     "data": {
      "text/plain": [
       "LTC_Home\n",
       "Afton Park Place Long Term Care Community    0.960\n",
       "Albright Gardens Homes, Incorporated         0.916\n",
       "Alexander Place                              0.992\n",
       "Algoma Manor Nursing Home                    0.972\n",
       "Algonquin Nursing Home                       0.950\n",
       "                                             ...  \n",
       "peopleCare A.R. Goudie Kitchener             0.968\n",
       "peopleCare Hilltop Manor Cambridge           0.984\n",
       "peopleCare Oakcrossing London                0.960\n",
       "peopleCare Tavistock                         0.938\n",
       "Élisabeth-Bruyère Residence                  0.976\n",
       "Name: 1st_dose_percentage_staff_vaccination_rate, Length: 647, dtype: float64"
      ]
     },
     "execution_count": 6,
     "metadata": {},
     "output_type": "execute_result"
    }
   ],
   "source": [
    "Immunization.groupby('LTC_Home')['1st_dose_percentage_staff_vaccination_rate'].mean()"
   ]
  },
  {
   "cell_type": "code",
   "execution_count": 7,
   "id": "0a006617",
   "metadata": {},
   "outputs": [
    {
     "data": {
      "text/plain": [
       "LTC_Home\n",
       "Afton Park Place Long Term Care Community    0.894\n",
       "Albright Gardens Homes, Incorporated         0.890\n",
       "Alexander Place                              0.954\n",
       "Algoma Manor Nursing Home                    0.964\n",
       "Algonquin Nursing Home                       0.926\n",
       "                                             ...  \n",
       "peopleCare A.R. Goudie Kitchener             0.964\n",
       "peopleCare Hilltop Manor Cambridge           0.970\n",
       "peopleCare Oakcrossing London                0.936\n",
       "peopleCare Tavistock                         0.928\n",
       "Élisabeth-Bruyère Residence                  0.942\n",
       "Name: 2nd_dose_percentage_staff_vaccination_rate, Length: 647, dtype: float64"
      ]
     },
     "execution_count": 7,
     "metadata": {},
     "output_type": "execute_result"
    }
   ],
   "source": [
    "Immunization.groupby('LTC_Home')['2nd_dose_percentage_staff_vaccination_rate'].mean()"
   ]
  },
  {
   "cell_type": "code",
   "execution_count": 17,
   "id": "a95d75a5",
   "metadata": {},
   "outputs": [
    {
     "data": {
      "text/html": [
       "<div>\n",
       "<style scoped>\n",
       "    .dataframe tbody tr th:only-of-type {\n",
       "        vertical-align: middle;\n",
       "    }\n",
       "\n",
       "    .dataframe tbody tr th {\n",
       "        vertical-align: top;\n",
       "    }\n",
       "\n",
       "    .dataframe thead th {\n",
       "        text-align: right;\n",
       "    }\n",
       "</style>\n",
       "<table border=\"1\" class=\"dataframe\">\n",
       "  <thead>\n",
       "    <tr style=\"text-align: right;\">\n",
       "      <th></th>\n",
       "      <th>1st_dose_percentage_staff_vaccination_rate</th>\n",
       "      <th>2nd_dose_percentage_staff_vaccination_rate</th>\n",
       "    </tr>\n",
       "  </thead>\n",
       "  <tbody>\n",
       "    <tr>\n",
       "      <th>1st_dose_percentage_staff_vaccination_rate</th>\n",
       "      <td>1.000000</td>\n",
       "      <td>0.917243</td>\n",
       "    </tr>\n",
       "    <tr>\n",
       "      <th>2nd_dose_percentage_staff_vaccination_rate</th>\n",
       "      <td>0.917243</td>\n",
       "      <td>1.000000</td>\n",
       "    </tr>\n",
       "  </tbody>\n",
       "</table>\n",
       "</div>"
      ],
      "text/plain": [
       "                                            1st_dose_percentage_staff_vaccination_rate  \\\n",
       "1st_dose_percentage_staff_vaccination_rate                                    1.000000   \n",
       "2nd_dose_percentage_staff_vaccination_rate                                    0.917243   \n",
       "\n",
       "                                            2nd_dose_percentage_staff_vaccination_rate  \n",
       "1st_dose_percentage_staff_vaccination_rate                                    0.917243  \n",
       "2nd_dose_percentage_staff_vaccination_rate                                    1.000000  "
      ]
     },
     "execution_count": 17,
     "metadata": {},
     "output_type": "execute_result"
    }
   ],
   "source": [
    "Immunization[['LTC_Home', '1st_dose_percentage_staff_vaccination_rate', '2nd_dose_percentage_staff_vaccination_rate']].corr(method = 'spearman')"
   ]
  },
  {
   "cell_type": "code",
   "execution_count": 6,
   "id": "41c9b274",
   "metadata": {},
   "outputs": [
    {
     "data": {
      "text/plain": [
       "598     0.91\n",
       "599     0.98\n",
       "600     0.82\n",
       "601     0.87\n",
       "602     0.93\n",
       "        ... \n",
       "3086    1.00\n",
       "3087    0.97\n",
       "3088    1.00\n",
       "3089    1.00\n",
       "3090    1.00\n",
       "Name: 2nd_dose_percentage_staff_vaccination_rate, Length: 139, dtype: float64"
      ]
     },
     "execution_count": 6,
     "metadata": {},
     "output_type": "execute_result"
    }
   ],
   "source": [
    "Immunization.loc[Immunization['PHU']== 'YORK REGION', '2nd_dose_percentage_staff_vaccination_rate']"
   ]
  },
  {
   "cell_type": "code",
   "execution_count": 7,
   "id": "499075d6",
   "metadata": {},
   "outputs": [],
   "source": [
    "##How many unique Cities are in the dataset?"
   ]
  },
  {
   "cell_type": "code",
   "execution_count": 9,
   "id": "8a1b2627",
   "metadata": {},
   "outputs": [
    {
     "data": {
      "text/plain": [
       "311"
      ]
     },
     "execution_count": 9,
     "metadata": {},
     "output_type": "execute_result"
    }
   ],
   "source": [
    "Immunization['City'].nunique()"
   ]
  },
  {
   "cell_type": "code",
   "execution_count": 12,
   "id": "4bed7614",
   "metadata": {},
   "outputs": [],
   "source": [
    "##What is the proportion of each unique city in the dataset?"
   ]
  },
  {
   "cell_type": "code",
   "execution_count": 13,
   "id": "95cf297e",
   "metadata": {},
   "outputs": [
    {
     "data": {
      "text/plain": [
       "Toronto           202\n",
       "Scarborough        93\n",
       "Ottawa             85\n",
       "Hamilton           78\n",
       "London             75\n",
       "                 ... \n",
       "Little Current      2\n",
       "Planetagenet        1\n",
       "Sutton West         1\n",
       "Port Dover          1\n",
       "York                1\n",
       "Name: City, Length: 311, dtype: int64"
      ]
     },
     "execution_count": 13,
     "metadata": {},
     "output_type": "execute_result"
    }
   ],
   "source": [
    "Immunization['City'].value_counts()#.plot(kind='bar')"
   ]
  },
  {
   "cell_type": "code",
   "execution_count": 10,
   "id": "508c17ce",
   "metadata": {},
   "outputs": [],
   "source": [
    "##Which LTC home has a higher vaccination rate?"
   ]
  },
  {
   "cell_type": "code",
   "execution_count": 11,
   "id": "0344fa10",
   "metadata": {},
   "outputs": [
    {
     "data": {
      "text/plain": [
       "LTC_Home                                   2nd_dose_percentage_staff_vaccination_rate\n",
       "Afton Park Place Long Term Care Community  1.00                                          0.4\n",
       "                                           0.71                                          0.2\n",
       "                                           0.84                                          0.2\n",
       "                                           0.92                                          0.2\n",
       "Albright Gardens Homes, Incorporated       0.78                                          0.2\n",
       "                                                                                        ... \n",
       "Élisabeth-Bruyère Residence                0.86                                          0.2\n",
       "                                           0.90                                          0.2\n",
       "                                           0.96                                          0.2\n",
       "                                           0.99                                          0.2\n",
       "                                           1.00                                          0.2\n",
       "Name: 2nd_dose_percentage_staff_vaccination_rate, Length: 2450, dtype: float64"
      ]
     },
     "execution_count": 11,
     "metadata": {},
     "output_type": "execute_result"
    }
   ],
   "source": [
    "Immunization.groupby(['LTC_Home'])['2nd_dose_percentage_staff_vaccination_rate'].value_counts(normalize=True)"
   ]
  },
  {
   "cell_type": "code",
   "execution_count": 9,
   "id": "71898f9d",
   "metadata": {},
   "outputs": [
    {
     "data": {
      "text/plain": [
       "0              Thessalon\n",
       "1       Sault Ste. Marie\n",
       "2       Sault Ste. Marie\n",
       "3       Sault Ste. Marie\n",
       "4       Sault Ste. Marie\n",
       "              ...       \n",
       "3086          Woodbridge\n",
       "3087          Woodbridge\n",
       "3088             Markham\n",
       "3089               Maple\n",
       "3090           Newmarket\n",
       "Name: City, Length: 3091, dtype: object"
      ]
     },
     "execution_count": 9,
     "metadata": {},
     "output_type": "execute_result"
    }
   ],
   "source": [
    "Immunization['City']"
   ]
  },
  {
   "cell_type": "code",
   "execution_count": null,
   "id": "7c1f88a4",
   "metadata": {},
   "outputs": [],
   "source": [
    "##What is the average staff vaccination percentage of long term care homes in the City of Waterloo?"
   ]
  },
  {
   "cell_type": "code",
   "execution_count": 9,
   "id": "d0cbc7b1",
   "metadata": {},
   "outputs": [
    {
     "data": {
      "text/plain": [
       "544     0.87\n",
       "551     0.91\n",
       "554     0.92\n",
       "560     0.78\n",
       "1169    0.92\n",
       "1176    0.92\n",
       "1179    0.97\n",
       "1185    0.94\n",
       "1794    0.96\n",
       "1801    0.98\n",
       "1804    0.99\n",
       "1810    0.96\n",
       "2410    1.00\n",
       "2417    1.00\n",
       "2420    1.00\n",
       "2426    0.99\n",
       "3015    1.00\n",
       "3022    1.00\n",
       "3029    1.00\n",
       "Name: 2nd_dose_percentage_staff_vaccination_rate, dtype: float64"
      ]
     },
     "execution_count": 9,
     "metadata": {},
     "output_type": "execute_result"
    }
   ],
   "source": [
    "Immunization.loc[Immunization['City']== 'Waterloo', '2nd_dose_percentage_staff_vaccination_rate']"
   ]
  },
  {
   "cell_type": "code",
   "execution_count": null,
   "id": "ed004d90",
   "metadata": {},
   "outputs": [],
   "source": [
    "##Is there any city prone to more vaccinated staff member?"
   ]
  },
  {
   "cell_type": "code",
   "execution_count": 6,
   "id": "e979af67",
   "metadata": {},
   "outputs": [
    {
     "data": {
      "text/plain": [
       "City         2nd_dose_percentage_staff_vaccination_rate\n",
       "Ailsa Craig  0.98                                          0.666667\n",
       "             0.91                                          0.333333\n",
       "Ailsa Craig  0.72                                          0.500000\n",
       "             0.78                                          0.500000\n",
       "Ajax         1.00                                          0.400000\n",
       "                                                             ...   \n",
       "York         1.00                                          1.000000\n",
       "Zurich       1.00                                          0.400000\n",
       "             0.93                                          0.200000\n",
       "             0.96                                          0.200000\n",
       "             0.97                                          0.200000\n",
       "Name: 2nd_dose_percentage_staff_vaccination_rate, Length: 1627, dtype: float64"
      ]
     },
     "execution_count": 6,
     "metadata": {},
     "output_type": "execute_result"
    }
   ],
   "source": [
    "Immunization.groupby (['City'])['2nd_dose_percentage_staff_vaccination_rate'].value_counts (normalize=True)"
   ]
  },
  {
   "cell_type": "code",
   "execution_count": 7,
   "id": "5fd5bb2f",
   "metadata": {},
   "outputs": [],
   "source": [
    "##How many LTC homes are in each city?\n"
   ]
  },
  {
   "cell_type": "code",
   "execution_count": 10,
   "id": "6fcbf8e2",
   "metadata": {},
   "outputs": [
    {
     "data": {
      "text/plain": [
       "City         LTC_Home                                      \n",
       "Ailsa Craig  Craigholme                                        1.0\n",
       "Ailsa Craig  Craigholme                                        1.0\n",
       "Ajax         Chartwell Ballycliffe Long Term Care Residence    0.5\n",
       "             Winbourne Park                                    0.5\n",
       "Akwesasne    Tsiionkwanonhsote                                 1.0\n",
       "                                                              ... \n",
       "Woodslee     Country Village Homes - Woodslee                  1.0\n",
       "Woodstock    Caressant Care Woodstock Nursing Home             0.5\n",
       "             Woodingford Lodge - Woodstock                     0.5\n",
       "York         West Park Long-Term Care Centre                   1.0\n",
       "Zurich       Blue Water Rest Home                              1.0\n",
       "Name: LTC_Home, Length: 754, dtype: float64"
      ]
     },
     "execution_count": 10,
     "metadata": {},
     "output_type": "execute_result"
    }
   ],
   "source": [
    "Immunization.groupby('City')['LTC_Home'].value_counts(normalize=True)"
   ]
  },
  {
   "cell_type": "code",
   "execution_count": 6,
   "id": "7ae24734",
   "metadata": {},
   "outputs": [
    {
     "data": {
      "text/plain": [
       "456     0.83\n",
       "457     0.94\n",
       "460     0.93\n",
       "461     0.94\n",
       "465     0.82\n",
       "        ... \n",
       "2999    1.00\n",
       "3000    1.00\n",
       "3003    1.00\n",
       "3004    1.00\n",
       "3007    0.99\n",
       "Name: 2nd_dose_percentage_staff_vaccination_rate, Length: 202, dtype: float64"
      ]
     },
     "execution_count": 6,
     "metadata": {},
     "output_type": "execute_result"
    }
   ],
   "source": []
  },
  {
   "cell_type": "code",
   "execution_count": null,
   "id": "d1458c43",
   "metadata": {},
   "outputs": [],
   "source": []
  }
 ],
 "metadata": {
  "kernelspec": {
   "display_name": "Python 3 (ipykernel)",
   "language": "python",
   "name": "python3"
  },
  "language_info": {
   "codemirror_mode": {
    "name": "ipython",
    "version": 3
   },
   "file_extension": ".py",
   "mimetype": "text/x-python",
   "name": "python",
   "nbconvert_exporter": "python",
   "pygments_lexer": "ipython3",
   "version": "3.9.7"
  }
 },
 "nbformat": 4,
 "nbformat_minor": 5
}
